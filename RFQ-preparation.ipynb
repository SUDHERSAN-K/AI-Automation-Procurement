{
 "cells": [
  {
   "cell_type": "markdown",
   "metadata": {},
   "source": [
    "# OpenAI Function Calling Demo\n",
    "\n",
    "This notebook demonstrates how to use OpenAI's function calling capability to create and use tools."
   ]
  },
  {
   "cell_type": "code",
   "execution_count": 1,
   "metadata": {},
   "outputs": [
    {
     "name": "stdout",
     "output_type": "stream",
     "text": [
      "Defaulting to user installation because normal site-packages is not writeable\n",
      "Requirement already satisfied: oauth2client in /Users/nujoumunus/Library/Python/3.9/lib/python/site-packages (4.1.3)\n",
      "Requirement already satisfied: httplib2>=0.9.1 in /Users/nujoumunus/Library/Python/3.9/lib/python/site-packages (from oauth2client) (0.22.0)\n",
      "Requirement already satisfied: pyasn1>=0.1.7 in /Users/nujoumunus/Library/Python/3.9/lib/python/site-packages (from oauth2client) (0.6.1)\n",
      "Requirement already satisfied: pyasn1-modules>=0.0.5 in /Users/nujoumunus/Library/Python/3.9/lib/python/site-packages (from oauth2client) (0.4.2)\n",
      "Requirement already satisfied: rsa>=3.1.4 in /Users/nujoumunus/Library/Python/3.9/lib/python/site-packages (from oauth2client) (4.9.1)\n",
      "Requirement already satisfied: six>=1.6.1 in /Library/Developer/CommandLineTools/Library/Frameworks/Python3.framework/Versions/3.9/lib/python3.9/site-packages (from oauth2client) (1.15.0)\n",
      "Requirement already satisfied: pyparsing!=3.0.0,!=3.0.1,!=3.0.2,!=3.0.3,<4,>=2.4.2 in /Users/nujoumunus/Library/Python/3.9/lib/python/site-packages (from httplib2>=0.9.1->oauth2client) (3.2.1)\n",
      "Note: you may need to restart the kernel to use updated packages.\n"
     ]
    }
   ],
   "source": [
    "pip install oauth2client"
   ]
  },
  {
   "cell_type": "code",
   "execution_count": 2,
   "metadata": {},
   "outputs": [
    {
     "name": "stdout",
     "output_type": "stream",
     "text": [
      "Defaulting to user installation because normal site-packages is not writeable\n",
      "Requirement already satisfied: gspread in /Users/nujoumunus/Library/Python/3.9/lib/python/site-packages (6.2.0)\n",
      "Requirement already satisfied: google-auth>=1.12.0 in /Users/nujoumunus/Library/Python/3.9/lib/python/site-packages (from gspread) (2.40.1)\n",
      "Requirement already satisfied: google-auth-oauthlib>=0.4.1 in /Users/nujoumunus/Library/Python/3.9/lib/python/site-packages (from gspread) (1.2.2)\n",
      "Requirement already satisfied: cachetools<6.0,>=2.0.0 in /Users/nujoumunus/Library/Python/3.9/lib/python/site-packages (from google-auth>=1.12.0->gspread) (5.5.2)\n",
      "Requirement already satisfied: pyasn1-modules>=0.2.1 in /Users/nujoumunus/Library/Python/3.9/lib/python/site-packages (from google-auth>=1.12.0->gspread) (0.4.2)\n",
      "Requirement already satisfied: rsa<5,>=3.1.4 in /Users/nujoumunus/Library/Python/3.9/lib/python/site-packages (from google-auth>=1.12.0->gspread) (4.9.1)\n",
      "Requirement already satisfied: pyasn1>=0.1.3 in /Users/nujoumunus/Library/Python/3.9/lib/python/site-packages (from rsa<5,>=3.1.4->google-auth>=1.12.0->gspread) (0.6.1)\n",
      "Requirement already satisfied: requests-oauthlib>=0.7.0 in /Users/nujoumunus/Library/Python/3.9/lib/python/site-packages (from google-auth-oauthlib>=0.4.1->gspread) (2.0.0)\n",
      "Requirement already satisfied: oauthlib>=3.0.0 in /Users/nujoumunus/Library/Python/3.9/lib/python/site-packages (from requests-oauthlib>=0.7.0->google-auth-oauthlib>=0.4.1->gspread) (3.2.2)\n",
      "Requirement already satisfied: requests>=2.0.0 in /Users/nujoumunus/Library/Python/3.9/lib/python/site-packages (from requests-oauthlib>=0.7.0->google-auth-oauthlib>=0.4.1->gspread) (2.32.3)\n",
      "Requirement already satisfied: charset-normalizer<4,>=2 in /Users/nujoumunus/Library/Python/3.9/lib/python/site-packages (from requests>=2.0.0->requests-oauthlib>=0.7.0->google-auth-oauthlib>=0.4.1->gspread) (3.4.1)\n",
      "Requirement already satisfied: idna<4,>=2.5 in /Users/nujoumunus/Library/Python/3.9/lib/python/site-packages (from requests>=2.0.0->requests-oauthlib>=0.7.0->google-auth-oauthlib>=0.4.1->gspread) (3.10)\n",
      "Requirement already satisfied: urllib3<3,>=1.21.1 in /Users/nujoumunus/Library/Python/3.9/lib/python/site-packages (from requests>=2.0.0->requests-oauthlib>=0.7.0->google-auth-oauthlib>=0.4.1->gspread) (2.3.0)\n",
      "Requirement already satisfied: certifi>=2017.4.17 in /Users/nujoumunus/Library/Python/3.9/lib/python/site-packages (from requests>=2.0.0->requests-oauthlib>=0.7.0->google-auth-oauthlib>=0.4.1->gspread) (2025.1.31)\n",
      "Note: you may need to restart the kernel to use updated packages.\n"
     ]
    }
   ],
   "source": [
    "pip install gspread"
   ]
  },
  {
   "cell_type": "code",
   "execution_count": 3,
   "metadata": {},
   "outputs": [
    {
     "name": "stdout",
     "output_type": "stream",
     "text": [
      "Defaulting to user installation because normal site-packages is not writeable\n",
      "Requirement already satisfied: functions in /Users/nujoumunus/Library/Python/3.9/lib/python/site-packages (0.7.0)\n",
      "Note: you may need to restart the kernel to use updated packages.\n"
     ]
    }
   ],
   "source": [
    "pip install functions"
   ]
  },
  {
   "cell_type": "code",
   "execution_count": 4,
   "metadata": {},
   "outputs": [
    {
     "name": "stdout",
     "output_type": "stream",
     "text": [
      "Defaulting to user installation because normal site-packages is not writeable\n",
      "Requirement already satisfied: langchain_openai in /Users/nujoumunus/Library/Python/3.9/lib/python/site-packages (0.3.16)\n",
      "Requirement already satisfied: langchain-core<1.0.0,>=0.3.58 in /Users/nujoumunus/Library/Python/3.9/lib/python/site-packages (from langchain_openai) (0.3.59)\n",
      "Requirement already satisfied: openai<2.0.0,>=1.68.2 in /Users/nujoumunus/Library/Python/3.9/lib/python/site-packages (from langchain_openai) (1.77.0)\n",
      "Requirement already satisfied: tiktoken<1,>=0.7 in /Users/nujoumunus/Library/Python/3.9/lib/python/site-packages (from langchain_openai) (0.9.0)\n",
      "Requirement already satisfied: langsmith<0.4,>=0.1.125 in /Users/nujoumunus/Library/Python/3.9/lib/python/site-packages (from langchain-core<1.0.0,>=0.3.58->langchain_openai) (0.3.42)\n",
      "Requirement already satisfied: tenacity!=8.4.0,<10.0.0,>=8.1.0 in /Users/nujoumunus/Library/Python/3.9/lib/python/site-packages (from langchain-core<1.0.0,>=0.3.58->langchain_openai) (9.1.2)\n",
      "Requirement already satisfied: jsonpatch<2.0,>=1.33 in /Users/nujoumunus/Library/Python/3.9/lib/python/site-packages (from langchain-core<1.0.0,>=0.3.58->langchain_openai) (1.33)\n",
      "Requirement already satisfied: PyYAML>=5.3 in /Users/nujoumunus/Library/Python/3.9/lib/python/site-packages (from langchain-core<1.0.0,>=0.3.58->langchain_openai) (6.0.2)\n",
      "Requirement already satisfied: packaging<25,>=23.2 in /Users/nujoumunus/Library/Python/3.9/lib/python/site-packages (from langchain-core<1.0.0,>=0.3.58->langchain_openai) (24.1)\n",
      "Requirement already satisfied: typing-extensions>=4.7 in /Users/nujoumunus/Library/Python/3.9/lib/python/site-packages (from langchain-core<1.0.0,>=0.3.58->langchain_openai) (4.12.2)\n",
      "Requirement already satisfied: pydantic<3.0.0,>=2.5.2 in /Users/nujoumunus/Library/Python/3.9/lib/python/site-packages (from langchain-core<1.0.0,>=0.3.58->langchain_openai) (2.10.6)\n",
      "Requirement already satisfied: jsonpointer>=1.9 in /Users/nujoumunus/Library/Python/3.9/lib/python/site-packages (from jsonpatch<2.0,>=1.33->langchain-core<1.0.0,>=0.3.58->langchain_openai) (3.0.0)\n",
      "Requirement already satisfied: httpx<1,>=0.23.0 in /Users/nujoumunus/Library/Python/3.9/lib/python/site-packages (from langsmith<0.4,>=0.1.125->langchain-core<1.0.0,>=0.3.58->langchain_openai) (0.28.1)\n",
      "Requirement already satisfied: orjson<4.0.0,>=3.9.14 in /Users/nujoumunus/Library/Python/3.9/lib/python/site-packages (from langsmith<0.4,>=0.1.125->langchain-core<1.0.0,>=0.3.58->langchain_openai) (3.10.15)\n",
      "Requirement already satisfied: requests<3,>=2 in /Users/nujoumunus/Library/Python/3.9/lib/python/site-packages (from langsmith<0.4,>=0.1.125->langchain-core<1.0.0,>=0.3.58->langchain_openai) (2.32.3)\n",
      "Requirement already satisfied: requests-toolbelt<2.0.0,>=1.0.0 in /Users/nujoumunus/Library/Python/3.9/lib/python/site-packages (from langsmith<0.4,>=0.1.125->langchain-core<1.0.0,>=0.3.58->langchain_openai) (1.0.0)\n",
      "Requirement already satisfied: zstandard<0.24.0,>=0.23.0 in /Users/nujoumunus/Library/Python/3.9/lib/python/site-packages (from langsmith<0.4,>=0.1.125->langchain-core<1.0.0,>=0.3.58->langchain_openai) (0.23.0)\n",
      "Requirement already satisfied: anyio in /Users/nujoumunus/Library/Python/3.9/lib/python/site-packages (from httpx<1,>=0.23.0->langsmith<0.4,>=0.1.125->langchain-core<1.0.0,>=0.3.58->langchain_openai) (4.8.0)\n",
      "Requirement already satisfied: certifi in /Users/nujoumunus/Library/Python/3.9/lib/python/site-packages (from httpx<1,>=0.23.0->langsmith<0.4,>=0.1.125->langchain-core<1.0.0,>=0.3.58->langchain_openai) (2025.1.31)\n",
      "Requirement already satisfied: httpcore==1.* in /Users/nujoumunus/Library/Python/3.9/lib/python/site-packages (from httpx<1,>=0.23.0->langsmith<0.4,>=0.1.125->langchain-core<1.0.0,>=0.3.58->langchain_openai) (1.0.7)\n",
      "Requirement already satisfied: idna in /Users/nujoumunus/Library/Python/3.9/lib/python/site-packages (from httpx<1,>=0.23.0->langsmith<0.4,>=0.1.125->langchain-core<1.0.0,>=0.3.58->langchain_openai) (3.10)\n",
      "Requirement already satisfied: h11<0.15,>=0.13 in /Users/nujoumunus/Library/Python/3.9/lib/python/site-packages (from httpcore==1.*->httpx<1,>=0.23.0->langsmith<0.4,>=0.1.125->langchain-core<1.0.0,>=0.3.58->langchain_openai) (0.14.0)\n",
      "Requirement already satisfied: distro<2,>=1.7.0 in /Users/nujoumunus/Library/Python/3.9/lib/python/site-packages (from openai<2.0.0,>=1.68.2->langchain_openai) (1.9.0)\n",
      "Requirement already satisfied: jiter<1,>=0.4.0 in /Users/nujoumunus/Library/Python/3.9/lib/python/site-packages (from openai<2.0.0,>=1.68.2->langchain_openai) (0.9.0)\n",
      "Requirement already satisfied: sniffio in /Users/nujoumunus/Library/Python/3.9/lib/python/site-packages (from openai<2.0.0,>=1.68.2->langchain_openai) (1.3.1)\n",
      "Requirement already satisfied: tqdm>4 in /Users/nujoumunus/Library/Python/3.9/lib/python/site-packages (from openai<2.0.0,>=1.68.2->langchain_openai) (4.67.1)\n",
      "Requirement already satisfied: exceptiongroup>=1.0.2 in /Users/nujoumunus/Library/Python/3.9/lib/python/site-packages (from anyio->httpx<1,>=0.23.0->langsmith<0.4,>=0.1.125->langchain-core<1.0.0,>=0.3.58->langchain_openai) (1.2.2)\n",
      "Requirement already satisfied: annotated-types>=0.6.0 in /Users/nujoumunus/Library/Python/3.9/lib/python/site-packages (from pydantic<3.0.0,>=2.5.2->langchain-core<1.0.0,>=0.3.58->langchain_openai) (0.7.0)\n",
      "Requirement already satisfied: pydantic-core==2.27.2 in /Users/nujoumunus/Library/Python/3.9/lib/python/site-packages (from pydantic<3.0.0,>=2.5.2->langchain-core<1.0.0,>=0.3.58->langchain_openai) (2.27.2)\n",
      "Requirement already satisfied: charset-normalizer<4,>=2 in /Users/nujoumunus/Library/Python/3.9/lib/python/site-packages (from requests<3,>=2->langsmith<0.4,>=0.1.125->langchain-core<1.0.0,>=0.3.58->langchain_openai) (3.4.1)\n",
      "Requirement already satisfied: urllib3<3,>=1.21.1 in /Users/nujoumunus/Library/Python/3.9/lib/python/site-packages (from requests<3,>=2->langsmith<0.4,>=0.1.125->langchain-core<1.0.0,>=0.3.58->langchain_openai) (2.3.0)\n",
      "Requirement already satisfied: regex>=2022.1.18 in /Users/nujoumunus/Library/Python/3.9/lib/python/site-packages (from tiktoken<1,>=0.7->langchain_openai) (2024.11.6)\n",
      "Note: you may need to restart the kernel to use updated packages.\n"
     ]
    }
   ],
   "source": [
    "pip install langchain_openai"
   ]
  },
  {
   "cell_type": "code",
   "execution_count": 5,
   "metadata": {},
   "outputs": [
    {
     "name": "stdout",
     "output_type": "stream",
     "text": [
      "Defaulting to user installation because normal site-packages is not writeable\n",
      "Requirement already satisfied: llm_connect in /Users/nujoumunus/Library/Python/3.9/lib/python/site-packages (2.0.0)\n",
      "Requirement already satisfied: click==8.1.7 in /Users/nujoumunus/Library/Python/3.9/lib/python/site-packages (from llm_connect) (8.1.7)\n",
      "Requirement already satisfied: setuptools~=68.2.0 in /Users/nujoumunus/Library/Python/3.9/lib/python/site-packages (from llm_connect) (68.2.2)\n",
      "Requirement already satisfied: transformers in /Users/nujoumunus/Library/Python/3.9/lib/python/site-packages (from llm_connect) (4.49.0)\n",
      "Requirement already satisfied: torch~=2.1.0 in /Users/nujoumunus/Library/Python/3.9/lib/python/site-packages (from llm_connect) (2.1.2)\n",
      "Requirement already satisfied: accelerate in /Users/nujoumunus/Library/Python/3.9/lib/python/site-packages (from llm_connect) (1.6.0)\n",
      "Requirement already satisfied: bitsandbytes in /Users/nujoumunus/Library/Python/3.9/lib/python/site-packages (from llm_connect) (0.42.0)\n",
      "Requirement already satisfied: colorama in /Users/nujoumunus/Library/Python/3.9/lib/python/site-packages (from llm_connect) (0.4.6)\n",
      "Requirement already satisfied: filelock in /Users/nujoumunus/Library/Python/3.9/lib/python/site-packages (from torch~=2.1.0->llm_connect) (3.18.0)\n",
      "Requirement already satisfied: typing-extensions in /Users/nujoumunus/Library/Python/3.9/lib/python/site-packages (from torch~=2.1.0->llm_connect) (4.12.2)\n",
      "Requirement already satisfied: sympy in /Users/nujoumunus/Library/Python/3.9/lib/python/site-packages (from torch~=2.1.0->llm_connect) (1.13.1)\n",
      "Requirement already satisfied: networkx in /Users/nujoumunus/Library/Python/3.9/lib/python/site-packages (from torch~=2.1.0->llm_connect) (3.2.1)\n",
      "Requirement already satisfied: jinja2 in /Users/nujoumunus/Library/Python/3.9/lib/python/site-packages (from torch~=2.1.0->llm_connect) (3.1.5)\n",
      "Requirement already satisfied: fsspec in /Users/nujoumunus/Library/Python/3.9/lib/python/site-packages (from torch~=2.1.0->llm_connect) (2025.3.0)\n",
      "Requirement already satisfied: numpy<3.0.0,>=1.17 in /Users/nujoumunus/Library/Python/3.9/lib/python/site-packages (from accelerate->llm_connect) (1.26.4)\n",
      "Requirement already satisfied: packaging>=20.0 in /Users/nujoumunus/Library/Python/3.9/lib/python/site-packages (from accelerate->llm_connect) (24.1)\n",
      "Requirement already satisfied: psutil in /Users/nujoumunus/Library/Python/3.9/lib/python/site-packages (from accelerate->llm_connect) (6.0.0)\n",
      "Requirement already satisfied: pyyaml in /Users/nujoumunus/Library/Python/3.9/lib/python/site-packages (from accelerate->llm_connect) (6.0.2)\n",
      "Requirement already satisfied: huggingface-hub>=0.21.0 in /Users/nujoumunus/Library/Python/3.9/lib/python/site-packages (from accelerate->llm_connect) (0.29.3)\n",
      "Requirement already satisfied: safetensors>=0.4.3 in /Users/nujoumunus/Library/Python/3.9/lib/python/site-packages (from accelerate->llm_connect) (0.5.3)\n",
      "Requirement already satisfied: requests in /Users/nujoumunus/Library/Python/3.9/lib/python/site-packages (from huggingface-hub>=0.21.0->accelerate->llm_connect) (2.32.3)\n",
      "Requirement already satisfied: tqdm>=4.42.1 in /Users/nujoumunus/Library/Python/3.9/lib/python/site-packages (from huggingface-hub>=0.21.0->accelerate->llm_connect) (4.67.1)\n",
      "Requirement already satisfied: scipy in /Users/nujoumunus/Library/Python/3.9/lib/python/site-packages (from bitsandbytes->llm_connect) (1.13.1)\n",
      "Requirement already satisfied: MarkupSafe>=2.0 in /Users/nujoumunus/Library/Python/3.9/lib/python/site-packages (from jinja2->torch~=2.1.0->llm_connect) (3.0.2)\n",
      "Requirement already satisfied: charset-normalizer<4,>=2 in /Users/nujoumunus/Library/Python/3.9/lib/python/site-packages (from requests->huggingface-hub>=0.21.0->accelerate->llm_connect) (3.4.1)\n",
      "Requirement already satisfied: idna<4,>=2.5 in /Users/nujoumunus/Library/Python/3.9/lib/python/site-packages (from requests->huggingface-hub>=0.21.0->accelerate->llm_connect) (3.10)\n",
      "Requirement already satisfied: urllib3<3,>=1.21.1 in /Users/nujoumunus/Library/Python/3.9/lib/python/site-packages (from requests->huggingface-hub>=0.21.0->accelerate->llm_connect) (2.3.0)\n",
      "Requirement already satisfied: certifi>=2017.4.17 in /Users/nujoumunus/Library/Python/3.9/lib/python/site-packages (from requests->huggingface-hub>=0.21.0->accelerate->llm_connect) (2025.1.31)\n",
      "Requirement already satisfied: mpmath<1.4,>=1.1.0 in /Users/nujoumunus/Library/Python/3.9/lib/python/site-packages (from sympy->torch~=2.1.0->llm_connect) (1.3.0)\n",
      "Requirement already satisfied: regex!=2019.12.17 in /Users/nujoumunus/Library/Python/3.9/lib/python/site-packages (from transformers->llm_connect) (2024.11.6)\n",
      "Requirement already satisfied: tokenizers<0.22,>=0.21 in /Users/nujoumunus/Library/Python/3.9/lib/python/site-packages (from transformers->llm_connect) (0.21.1)\n",
      "Note: you may need to restart the kernel to use updated packages.\n"
     ]
    }
   ],
   "source": [
    "pip install llm_connect"
   ]
  },
  {
   "cell_type": "code",
   "execution_count": null,
   "metadata": {},
   "outputs": [],
   "source": []
  },
  {
   "cell_type": "code",
   "execution_count": 6,
   "metadata": {},
   "outputs": [],
   "source": [
    "import os\n",
    "import sys\n",
    "\n",
    "# adding the directory with the connection code to the system path\n",
    "# so that we can import it\n",
    "sys.path.append(\"../code\")"
   ]
  },
  {
   "cell_type": "code",
   "execution_count": 7,
   "metadata": {},
   "outputs": [
    {
     "name": "stderr",
     "output_type": "stream",
     "text": [
      "/Users/nujoumunus/Library/Python/3.9/lib/python/site-packages/urllib3/__init__.py:35: NotOpenSSLWarning: urllib3 v2 only supports OpenSSL 1.1.1+, currently the 'ssl' module is compiled with 'LibreSSL 2.8.3'. See: https://github.com/urllib3/urllib3/issues/3020\n",
      "  warnings.warn(\n"
     ]
    }
   ],
   "source": [
    "import gspread\n",
    "from oauth2client.service_account import ServiceAccountCredentials"
   ]
  },
  {
   "cell_type": "code",
   "execution_count": 8,
   "metadata": {},
   "outputs": [],
   "source": [
    "# this cell isn't strictly necessary but it makes it easier to\n",
    "# to update the code from llm_connect if you make changes\n",
    "# %reload_ext autoreload\n",
    "# %autoreload 2\n",
    "# %aimport functions"
   ]
  },
  {
   "cell_type": "code",
   "execution_count": 9,
   "metadata": {},
   "outputs": [
    {
     "ename": "SyntaxError",
     "evalue": "invalid syntax (functions.py, line 68)",
     "output_type": "error",
     "traceback": [
      "Traceback \u001b[0;36m(most recent call last)\u001b[0m:\n",
      "\u001b[0m  File \u001b[1;32m~/Library/Python/3.9/lib/python/site-packages/IPython/core/interactiveshell.py:3550\u001b[0m in \u001b[1;35mrun_code\u001b[0m\n    exec(code_obj, self.user_global_ns, self.user_ns)\u001b[0m\n",
      "\u001b[0;36m  Cell \u001b[0;32mIn[9], line 6\u001b[0;36m\n\u001b[0;31m    import functions as fn\u001b[0;36m\n",
      "\u001b[0;36m  File \u001b[0;32m~/Library/Python/3.9/lib/python/site-packages/functions.py:68\u001b[0;36m\u001b[0m\n\u001b[0;31m    nodes = tuple(map(lambda (k, v): process_node(inner, k, v),\u001b[0m\n\u001b[0m                             ^\u001b[0m\n\u001b[0;31mSyntaxError\u001b[0m\u001b[0;31m:\u001b[0m invalid syntax\n"
     ]
    }
   ],
   "source": [
    "import json\n",
    "import requests\n",
    "from langchain_openai import ChatOpenAI\n",
    "# from llm_connect import get_response\n",
    "from dotenv import load_dotenv\n",
    "import functions as fn\n",
    "\n",
    "load_dotenv()\n"
   ]
  },
  {
   "cell_type": "code",
   "execution_count": 10,
   "metadata": {},
   "outputs": [
    {
     "data": {
      "text/plain": [
       "True"
      ]
     },
     "execution_count": 10,
     "metadata": {},
     "output_type": "execute_result"
    }
   ],
   "source": [
    "import json\n",
    "import requests\n",
    "from langchain_openai import ChatOpenAI\n",
    "# from llm_connect import get_response\n",
    "from dotenv import load_dotenv\n",
    "# import functions as fn\n",
    "\n",
    "load_dotenv()"
   ]
  },
  {
   "cell_type": "code",
   "execution_count": 11,
   "metadata": {},
   "outputs": [],
   "source": [
    "client = ChatOpenAI(\n",
    "    model=\"llama-3\",\n",
    "    api_key=os.getenv(\"LLAMA_API_KEY\"),\n",
    "    openai_api_base=\"https://traip13.tgptinf.ucsd.edu/v1\",\n",
    ")"
   ]
  },
  {
   "cell_type": "markdown",
   "metadata": {},
   "source": [
    "#### Vendor Suggestion Tool"
   ]
  },
  {
   "cell_type": "code",
   "execution_count": null,
   "metadata": {},
   "outputs": [],
   "source": [
    "def get_data(sheet_name: str) -> list:\n",
    "    \"\"\"\n",
    "    Fetch data  from a Google Sheet.\n",
    "\n",
    "    Parameters\n",
    "    ----------\n",
    "    sheet_name : str\n",
    "        Name of the Google Sheet tab.\n",
    "\n",
    "    Returns\n",
    "    -------\n",
    "    list of dict\n",
    "        Each row in the sheet as a dictionary.\n",
    "    \"\"\"\n",
    "    scope = [\n",
    "    \"https://spreadsheets.google.com/feeds\", \n",
    "    \"https://www.googleapis.com/auth/drive\"\n",
    "    ]\n",
    "    creds = ServiceAccountCredentials.from_json_keyfile_name(\"credentials.json\", scope)\n",
    "    gs_client = gspread.authorize(creds)  \n",
    "    spreadsheet = gs_client.open_by_url(\"https://docs.google.com/spreadsheets/d/1ioqw78lMaf1tpFrU4QmcShZgl79bn6iqljnF3Uu8krU/edit?gid=244310017#gid=244310017/edit#gid=0\")\n",
    "    worksheet = spreadsheet.worksheet(sheet_name)\n",
    "    data = worksheet.get_all_records()\n",
    "    return data"
   ]
  },
  {
   "cell_type": "code",
   "execution_count": 16,
   "metadata": {},
   "outputs": [
    {
     "ename": "ValueError",
     "evalue": "('Unexpected credentials type', None, 'Expected', 'service_account')",
     "output_type": "error",
     "traceback": [
      "\u001b[0;31m---------------------------------------------------------------------------\u001b[0m",
      "\u001b[0;31mValueError\u001b[0m                                Traceback (most recent call last)",
      "Cell \u001b[0;32mIn[16], line 4\u001b[0m\n\u001b[1;32m      2\u001b[0m     raw_data \u001b[38;5;241m=\u001b[39m get_data(sheet_name)\n\u001b[1;32m      3\u001b[0m     \u001b[38;5;28;01mreturn\u001b[39;00m [row[\u001b[38;5;124m\"\u001b[39m\u001b[38;5;124mItem Name\u001b[39m\u001b[38;5;124m\"\u001b[39m] \u001b[38;5;28;01mfor\u001b[39;00m row \u001b[38;5;129;01min\u001b[39;00m raw_data \u001b[38;5;28;01mif\u001b[39;00m \u001b[38;5;124m\"\u001b[39m\u001b[38;5;124mItem Name\u001b[39m\u001b[38;5;124m\"\u001b[39m \u001b[38;5;129;01min\u001b[39;00m row \u001b[38;5;129;01mand\u001b[39;00m row[\u001b[38;5;124m\"\u001b[39m\u001b[38;5;124mItem Name\u001b[39m\u001b[38;5;124m\"\u001b[39m]\u001b[38;5;241m.\u001b[39mstrip()]\n\u001b[0;32m----> 4\u001b[0m items \u001b[38;5;241m=\u001b[39m \u001b[43mget_item_list_from_sheet\u001b[49m\u001b[43m(\u001b[49m\u001b[38;5;124;43m\"\u001b[39;49m\u001b[38;5;124;43mitems\u001b[39;49m\u001b[38;5;124;43m\"\u001b[39;49m\u001b[43m)\u001b[49m\n",
      "Cell \u001b[0;32mIn[16], line 2\u001b[0m, in \u001b[0;36mget_item_list_from_sheet\u001b[0;34m(sheet_name)\u001b[0m\n\u001b[1;32m      1\u001b[0m \u001b[38;5;28;01mdef\u001b[39;00m \u001b[38;5;21mget_item_list_from_sheet\u001b[39m(sheet_name: \u001b[38;5;28mstr\u001b[39m \u001b[38;5;241m=\u001b[39m \u001b[38;5;124m\"\u001b[39m\u001b[38;5;124mitems\u001b[39m\u001b[38;5;124m\"\u001b[39m) \u001b[38;5;241m-\u001b[39m\u001b[38;5;241m>\u001b[39m \u001b[38;5;28mlist\u001b[39m:\n\u001b[0;32m----> 2\u001b[0m     raw_data \u001b[38;5;241m=\u001b[39m \u001b[43mget_data\u001b[49m\u001b[43m(\u001b[49m\u001b[43msheet_name\u001b[49m\u001b[43m)\u001b[49m\n\u001b[1;32m      3\u001b[0m     \u001b[38;5;28;01mreturn\u001b[39;00m [row[\u001b[38;5;124m\"\u001b[39m\u001b[38;5;124mItem Name\u001b[39m\u001b[38;5;124m\"\u001b[39m] \u001b[38;5;28;01mfor\u001b[39;00m row \u001b[38;5;129;01min\u001b[39;00m raw_data \u001b[38;5;28;01mif\u001b[39;00m \u001b[38;5;124m\"\u001b[39m\u001b[38;5;124mItem Name\u001b[39m\u001b[38;5;124m\"\u001b[39m \u001b[38;5;129;01min\u001b[39;00m row \u001b[38;5;129;01mand\u001b[39;00m row[\u001b[38;5;124m\"\u001b[39m\u001b[38;5;124mItem Name\u001b[39m\u001b[38;5;124m\"\u001b[39m]\u001b[38;5;241m.\u001b[39mstrip()]\n",
      "Cell \u001b[0;32mIn[14], line 19\u001b[0m, in \u001b[0;36mget_data\u001b[0;34m(sheet_name)\u001b[0m\n\u001b[1;32m      2\u001b[0m \u001b[38;5;250m\u001b[39m\u001b[38;5;124;03m\"\"\"\u001b[39;00m\n\u001b[1;32m      3\u001b[0m \u001b[38;5;124;03mFetch data  from a Google Sheet.\u001b[39;00m\n\u001b[1;32m      4\u001b[0m \n\u001b[0;32m   (...)\u001b[0m\n\u001b[1;32m     13\u001b[0m \u001b[38;5;124;03m    Each row in the sheet as a dictionary.\u001b[39;00m\n\u001b[1;32m     14\u001b[0m \u001b[38;5;124;03m\"\"\"\u001b[39;00m\n\u001b[1;32m     15\u001b[0m scope \u001b[38;5;241m=\u001b[39m [\n\u001b[1;32m     16\u001b[0m \u001b[38;5;124m\"\u001b[39m\u001b[38;5;124mhttps://spreadsheets.google.com/feeds\u001b[39m\u001b[38;5;124m\"\u001b[39m, \n\u001b[1;32m     17\u001b[0m \u001b[38;5;124m\"\u001b[39m\u001b[38;5;124mhttps://www.googleapis.com/auth/drive\u001b[39m\u001b[38;5;124m\"\u001b[39m\n\u001b[1;32m     18\u001b[0m ]\n\u001b[0;32m---> 19\u001b[0m creds \u001b[38;5;241m=\u001b[39m \u001b[43mServiceAccountCredentials\u001b[49m\u001b[38;5;241;43m.\u001b[39;49m\u001b[43mfrom_json_keyfile_name\u001b[49m\u001b[43m(\u001b[49m\u001b[38;5;124;43m\"\u001b[39;49m\u001b[38;5;124;43mproject_context.json\u001b[39;49m\u001b[38;5;124;43m\"\u001b[39;49m\u001b[43m,\u001b[49m\u001b[43m \u001b[49m\u001b[43mscope\u001b[49m\u001b[43m)\u001b[49m\n\u001b[1;32m     20\u001b[0m gs_client \u001b[38;5;241m=\u001b[39m gspread\u001b[38;5;241m.\u001b[39mauthorize(creds)  \n\u001b[1;32m     21\u001b[0m spreadsheet \u001b[38;5;241m=\u001b[39m gs_client\u001b[38;5;241m.\u001b[39mopen_by_url(\u001b[38;5;124m\"\u001b[39m\u001b[38;5;124mhttps://docs.google.com/spreadsheets/d/1ioqw78lMaf1tpFrU4QmcShZgl79bn6iqljnF3Uu8krU/edit?gid=244310017#gid=244310017/edit#gid=0\u001b[39m\u001b[38;5;124m\"\u001b[39m)\n",
      "File \u001b[0;32m~/Library/Python/3.9/lib/python/site-packages/oauth2client/service_account.py:221\u001b[0m, in \u001b[0;36mServiceAccountCredentials.from_json_keyfile_name\u001b[0;34m(cls, filename, scopes, token_uri, revoke_uri)\u001b[0m\n\u001b[1;32m    219\u001b[0m \u001b[38;5;28;01mwith\u001b[39;00m \u001b[38;5;28mopen\u001b[39m(filename, \u001b[38;5;124m'\u001b[39m\u001b[38;5;124mr\u001b[39m\u001b[38;5;124m'\u001b[39m) \u001b[38;5;28;01mas\u001b[39;00m file_obj:\n\u001b[1;32m    220\u001b[0m     client_credentials \u001b[38;5;241m=\u001b[39m json\u001b[38;5;241m.\u001b[39mload(file_obj)\n\u001b[0;32m--> 221\u001b[0m \u001b[38;5;28;01mreturn\u001b[39;00m \u001b[38;5;28;43mcls\u001b[39;49m\u001b[38;5;241;43m.\u001b[39;49m\u001b[43m_from_parsed_json_keyfile\u001b[49m\u001b[43m(\u001b[49m\u001b[43mclient_credentials\u001b[49m\u001b[43m,\u001b[49m\u001b[43m \u001b[49m\u001b[43mscopes\u001b[49m\u001b[43m,\u001b[49m\n\u001b[1;32m    222\u001b[0m \u001b[43m                                     \u001b[49m\u001b[43mtoken_uri\u001b[49m\u001b[38;5;241;43m=\u001b[39;49m\u001b[43mtoken_uri\u001b[49m\u001b[43m,\u001b[49m\n\u001b[1;32m    223\u001b[0m \u001b[43m                                     \u001b[49m\u001b[43mrevoke_uri\u001b[49m\u001b[38;5;241;43m=\u001b[39;49m\u001b[43mrevoke_uri\u001b[49m\u001b[43m)\u001b[49m\n",
      "File \u001b[0;32m~/Library/Python/3.9/lib/python/site-packages/oauth2client/service_account.py:171\u001b[0m, in \u001b[0;36mServiceAccountCredentials._from_parsed_json_keyfile\u001b[0;34m(cls, keyfile_dict, scopes, token_uri, revoke_uri)\u001b[0m\n\u001b[1;32m    169\u001b[0m creds_type \u001b[38;5;241m=\u001b[39m keyfile_dict\u001b[38;5;241m.\u001b[39mget(\u001b[38;5;124m'\u001b[39m\u001b[38;5;124mtype\u001b[39m\u001b[38;5;124m'\u001b[39m)\n\u001b[1;32m    170\u001b[0m \u001b[38;5;28;01mif\u001b[39;00m creds_type \u001b[38;5;241m!=\u001b[39m client\u001b[38;5;241m.\u001b[39mSERVICE_ACCOUNT:\n\u001b[0;32m--> 171\u001b[0m     \u001b[38;5;28;01mraise\u001b[39;00m \u001b[38;5;167;01mValueError\u001b[39;00m(\u001b[38;5;124m'\u001b[39m\u001b[38;5;124mUnexpected credentials type\u001b[39m\u001b[38;5;124m'\u001b[39m, creds_type,\n\u001b[1;32m    172\u001b[0m                      \u001b[38;5;124m'\u001b[39m\u001b[38;5;124mExpected\u001b[39m\u001b[38;5;124m'\u001b[39m, client\u001b[38;5;241m.\u001b[39mSERVICE_ACCOUNT)\n\u001b[1;32m    174\u001b[0m service_account_email \u001b[38;5;241m=\u001b[39m keyfile_dict[\u001b[38;5;124m'\u001b[39m\u001b[38;5;124mclient_email\u001b[39m\u001b[38;5;124m'\u001b[39m]\n\u001b[1;32m    175\u001b[0m private_key_pkcs8_pem \u001b[38;5;241m=\u001b[39m keyfile_dict[\u001b[38;5;124m'\u001b[39m\u001b[38;5;124mprivate_key\u001b[39m\u001b[38;5;124m'\u001b[39m]\n",
      "\u001b[0;31mValueError\u001b[0m: ('Unexpected credentials type', None, 'Expected', 'service_account')"
     ]
    }
   ],
   "source": [
    "def get_item_list_from_sheet(sheet_name: str = \"items\") -> list:\n",
    "    raw_data = get_data(sheet_name)\n",
    "    return [row[\"Item Name\"] for row in raw_data if \"Item Name\" in row and row[\"Item Name\"].strip()]\n",
    "items = get_item_list_from_sheet(\"items\")"
   ]
  },
  {
   "cell_type": "code",
   "execution_count": null,
   "metadata": {},
   "outputs": [],
   "source": [
    "def get_item_data_from_sheet(sheet_name: str = \"items\") -> list:\n",
    "    \"\"\"\n",
    "    Fetches full item rows from the Google Sheet tab 'items'.\n",
    "\n",
    "    Returns\n",
    "    -------\n",
    "    list of dicts:\n",
    "        Each dict contains item metadata like:\n",
    "        Item Name, Specification, Quantity, Unit of Measure, Delivery Date, Drawing Ref\n",
    "    \"\"\"\n",
    "    return get_data(sheet_name)\n"
   ]
  },
  {
   "cell_type": "code",
   "execution_count": null,
   "metadata": {},
   "outputs": [],
   "source": [
    "item_data = get_item_data_from_sheet(\"items\")\n"
   ]
  },
  {
   "cell_type": "code",
   "execution_count": null,
   "metadata": {},
   "outputs": [],
   "source": [
    "def vendor_selector_template(user_input):\n",
    "    return f\"\"\"\n",
    "You are a procurement assistant tasked with selecting the most suitable vendor for each item listed.\n",
    "\n",
    "You have access to vendor profiles that include:\n",
    "\n",
    "Past history with our company\n",
    "\n",
    "Relevant certifications\n",
    "\n",
    "Area of expertise\n",
    "\n",
    "Average lead time (in days)\n",
    "\n",
    "Your task:\n",
    "For each item, select the single best vendor based on the above criteria and the relevance of the vendor's profile to the item’s requirements.\n",
    "\n",
    "Output Format:\n",
    "Return the results in a markdown table with the following columns:\n",
    "\n",
    "Item\n",
    "\n",
    "Suggested Vendor\n",
    "\n",
    "Reason for Selection (1–2 bullet points per row)\n",
    "\n",
    "Additional Instructions:\n",
    "\n",
    "If the same vendor is suitable for multiple items, list those item names together in the same row under the “Item” column (comma-separated).\n",
    "\n",
    "Do not include any introductory or closing text.\n",
    "\n",
    "Add a title above the table:\n",
    "\"Vendors suggestion based on Bechtel database\"\" \n",
    "\n",
    "Item to source: {user_input['item']}\n",
    "\n",
    "Vendor list:\n",
    "{user_input['vendor_data']}\n",
    "\"\"\"\n",
    "\n",
    "def suggest_vendors_llm(item_name: list, llm: str = \"llama\") -> str:\n",
    "    vendor_data = get_data(\"vendors\")\n",
    "\n",
    "    prompt_input = {\n",
    "        \"item\": item_name,\n",
    "        \"vendor_data\": vendor_data\n",
    "    }\n",
    "\n",
    "    return get_response(\n",
    "        input=prompt_input,\n",
    "        template=vendor_selector_template,\n",
    "        role=\"You are a procurement assistant helping select vendors for a specific item.\",\n",
    "        temperature=0.4,\n",
    "        max_tokens=400,\n",
    "        md=True,\n",
    "        llm=llm\n",
    "    )\n"
   ]
  },
  {
   "cell_type": "code",
   "execution_count": null,
   "metadata": {},
   "outputs": [
    {
     "data": {
      "text/markdown": [
       "# Vendors suggestion based on Bechtel database\n",
       "| Item | Suggested Vendor | Reason for Selection |\n",
       "| --- | --- | --- |\n",
       "| Carbon Steel Flange, Gate Valve | Alpha Solutions 2 | * Expertise in Flanges and Valves, * Certifications include API Monogram and CE |\n",
       "| HVAC Duct Connector | Trans Partners 13 | * Expertise in HVAC Duct Connectors, * Fast lead time of 12 days |\n",
       "| Cable Tray, Signal Conduit, Control Cable | Metro Industries 1 | * Expertise in Control Cable, Signal Conduit, and Cable Tray, * Preferred vendor for 3 years |\n",
       "| Earthing Strip, Fire Rated Door | Alpha Solutions 2 | * Expertise in Earthing Strip and Fire Rated Door, * Certifications include API Monogram and CE |\n",
       "| Structural Steel Beam | Steel Solutions 16 | * Expertise in Structural Steel, * Preferred vendor for 3 years |\n",
       "| Lighting Fixture - Tunnel Type | Metro Industries 9 | * Expertise in Lighting Fixture, * Fast lead time of 13 days |"
      ],
      "text/plain": [
       "<IPython.core.display.Markdown object>"
      ]
     },
     "metadata": {},
     "output_type": "display_data"
    }
   ],
   "source": [
    "suggest_vendors_llm(items)"
   ]
  },
  {
   "cell_type": "markdown",
   "metadata": {},
   "source": [
    "#### RFQ Formatter Tool"
   ]
  },
  {
   "cell_type": "code",
   "execution_count": null,
   "metadata": {},
   "outputs": [],
   "source": [
    "def generate_rfq_document(project_info: dict, item_data: list, vendor_name: str = None) -> str:\n",
    "    \"\"\"\n",
    "    Generate a vendor-ready RFQ document in plain text/markdown.\n",
    "\n",
    "    Parameters\n",
    "    ----------\n",
    "    project_info : dict\n",
    "        Contains project name, delivery address, submission deadline, and buyer contact info.\n",
    "\n",
    "    item_data : list of dict\n",
    "        List of items to be included in the RFQ. Each item should have fields:\n",
    "        - Item Name, Specification, Quantity, Unit of Measure, Delivery Date, Drawing Ref\n",
    "\n",
    "    vendor_name : str, optional\n",
    "        If a specific vendor is being addressed, include their name in the greeting.\n",
    "\n",
    "    Returns\n",
    "    -------\n",
    "    str\n",
    "        A formatted RFQ text block ready to be emailed or saved.\n",
    "    \"\"\"\n"
   ]
  },
  {
   "cell_type": "code",
   "execution_count": null,
   "metadata": {},
   "outputs": [],
   "source": [
    "def rfq_formatter_prompt(inputs):\n",
    "    vendor_name = inputs.get(\"vendor_name\", \"Vendor\")\n",
    "    project = inputs[\"project_info\"]\n",
    "    items = inputs[\"item_data\"]\n",
    "\n",
    "    item_lines = \"\\n\".join(\n",
    "        [f\"- {item['Item Name']}: {item['Specification']} | Qty: {item['Quantity']} {item['Unit of Measure']} | Delivery by: {item['Delivery Date']} | Ref: {item['Drawing Ref']}\"\n",
    "         for item in items]\n",
    "    )\n",
    "\n",
    "    return f\"\"\"\n",
    "You are a procurement assistant tasked with creating a vendor-ready RFQ.\n",
    "Generate a professional, well-structured RFQ in markdown format with the following structure:\n",
    "\n",
    "Greeting:\n",
    "\"Dear {vendor_name},\"\n",
    "\n",
    "Body:\n",
    "- Brief project description using: {project['Project Name']}, located in {project['Location']}\n",
    "- Include buyer contact info: {project['Engineering Lead']} (procurement@doha-metro.com)\n",
    "- List the items requested as bullet points\n",
    "\n",
    "Closing:\n",
    "- State deadline for quotation submission: 1 week from today\n",
    "- Ask the vendor to confirm receipt and reach out with questions\n",
    "\n",
    "Item List:\n",
    "{item_lines}\n",
    "\n",
    "Only return the RFQ body. No commentary or explanation.\n",
    "\"\"\"\n"
   ]
  },
  {
   "cell_type": "code",
   "execution_count": null,
   "metadata": {},
   "outputs": [
    {
     "data": {
      "text/plain": [
       "{'Project Name': 'Doha Metro Phase 2',\n",
       " 'Project Code': 'QATAR-METRO-2025',\n",
       " 'Location': 'Doha, Qatar',\n",
       " 'Client': 'Qatar Rail',\n",
       " 'Engineering Lead': 'Ahmed Al-Mansoori',\n",
       " 'Budget Holder': 'Central Procurement Division',\n",
       " 'Expected Completion': '2025-12-31',\n",
       " 'Scope Area': ['Underground stations',\n",
       "  'HVAC systems',\n",
       "  'Piping systems',\n",
       "  'Structural steel',\n",
       "  'Cable trays',\n",
       "  'Control rooms',\n",
       "  'Lighting and electrical infrastructure'],\n",
       " 'Working Language': 'English/Arabic',\n",
       " 'Incoterms': 'CIF – Doha Port',\n",
       " 'Payment Terms': 'Net 45',\n",
       " 'Certifications Needed': ['ISO 9001',\n",
       "  'ISO 14001',\n",
       "  'QCS 2014',\n",
       "  'GCC Standards'],\n",
       " 'NDA Status': 'Signed'}"
      ]
     },
     "execution_count": 23,
     "metadata": {},
     "output_type": "execute_result"
    }
   ],
   "source": [
    "import json\n",
    "\n",
    "# Load the JSON file\n",
    "with open(\"/home/jovyan/git/rsm-mgta495-rsm-skaniappan-2/Sudhersan/project_context.json\", \"r\") as file:\n",
    "    project_info = json.load(file)\n",
    "\n",
    "project_info"
   ]
  },
  {
   "cell_type": "code",
   "execution_count": null,
   "metadata": {},
   "outputs": [
    {
     "data": {
      "text/markdown": [
       "### Request for Quotation for Doha Metro Phase 2 Project\n",
       "Dear Alpha Solutions 2,\n",
       "\n",
       "We are reaching out from the procurement department of Doha Metro Phase 2, located in Doha, Qatar, regarding a request for quotation for various mechanical and electrical items. For any inquiries or clarifications, please do not hesitate to contact Ahmed Al-Mansoori at procurement@doha-metro.com.\n",
       "\n",
       "The following items are requested:\n",
       "* Carbon Steel Flange: ASTM A105, PN16, Raised Face | Qty: 150 EA | Delivery by: 2025-08-30 | Ref: DM-STN-MECH-001\n",
       "* Gate Valve: API 600, 6-inch, WCB Body | Qty: 60 EA | Delivery by: 2025-08-30 | Ref: DM-STN-MECH-003\n",
       "* Earthing Strip: Copper, 25mm x 3mm | Qty: 800 MTR | Delivery by: 2025-08-30 | Ref: DM-ELEC-018\n",
       "* Fire Rated Door: 120 min fire resistance, single leaf, 900x2100mm | Qty: 35 EA | Delivery by: 2025-08-30 | Ref: DM-ARCH-021\n",
       "\n",
       "Please submit your quotation within 1 week from the date of this request. We kindly request that you confirm receipt of this RFQ and reach out to us should you have any questions or require further clarification."
      ],
      "text/plain": [
       "<IPython.core.display.Markdown object>"
      ]
     },
     "metadata": {},
     "output_type": "display_data"
    },
    {
     "name": "stdout",
     "output_type": "stream",
     "text": [
      "\n",
      "--- RFQ for Alpha Solutions 2 ---\n",
      "\n",
      "None\n"
     ]
    },
    {
     "data": {
      "text/markdown": [
       "### Request for Quotation for Doha Metro Phase 2 Project\n",
       "Dear Trans Partners 13,\n",
       "\n",
       "We are reaching out regarding the Doha Metro Phase 2 project, located in Doha, Qatar. For any inquiries or questions, please do not hesitate to contact Ahmed Al-Mansoori at procurement@doha-metro.com.\n",
       "\n",
       "The following items are requested for the project:\n",
       "* HVAC Duct Connector: Flexible, 300mm x 300mm, Class 1 | Qty: 200 EA | Delivery by: 2025-08-30 | Ref: DM-HVAC-004\n",
       "\n",
       "Please submit your quotation within 1 week from the date of this request. We kindly request that you confirm receipt of this RFQ and reach out to us should you have any questions or require further clarification."
      ],
      "text/plain": [
       "<IPython.core.display.Markdown object>"
      ]
     },
     "metadata": {},
     "output_type": "display_data"
    },
    {
     "name": "stdout",
     "output_type": "stream",
     "text": [
      "\n",
      "--- RFQ for Trans Partners 13 ---\n",
      "\n",
      "None\n"
     ]
    },
    {
     "data": {
      "text/markdown": [
       "### Request for Quotation for Doha Metro Phase 2 Project\n",
       "Dear Metro Industries 1,\n",
       "\n",
       "We are reaching out from the procurement department of Doha Metro, regarding the Doha Metro Phase 2 project, located in Doha, Qatar. For any inquiries or clarifications, please do not hesitate to contact Ahmed Al-Mansoori at procurement@doha-metro.com.\n",
       "\n",
       "The following items are requested for the project:\n",
       "* Cable Tray: Ladder Type, GI, 300mm x 50mm | Qty: 500 MTR | Delivery by: 2025-08-30 | Ref: DM-ELEC-015\n",
       "* Control Cable: CU/PVC/PVC, 4C x 2.5 sq.mm | Qty: 1000 MTR | Delivery by: 2025-08-30 | Ref: DM-ELEC-022\n",
       "* Signal Conduit: PVC, 50mm dia, ISI marked | Qty: 750 MTR | Delivery by: 2025-08-30 | Ref: DM-SIG-005\n",
       "\n",
       "Please submit your quotation within 1 week from the date of this RFQ. We kindly request that you confirm receipt of this RFQ and reach out to us should you have any questions or require further clarification."
      ],
      "text/plain": [
       "<IPython.core.display.Markdown object>"
      ]
     },
     "metadata": {},
     "output_type": "display_data"
    },
    {
     "name": "stdout",
     "output_type": "stream",
     "text": [
      "\n",
      "--- RFQ for Metro Industries 1 ---\n",
      "\n",
      "None\n"
     ]
    },
    {
     "data": {
      "text/markdown": [
       "### Request for Quotation for Doha Metro Phase 2 Project\n",
       "Dear Steel Solutions 16,\n",
       "\n",
       "We are reaching out from the procurement department of Doha Metro Phase 2, located in Doha, Qatar, regarding a potential supply opportunity. For any inquiries or clarifications, please do not hesitate to contact Ahmed Al-Mansoori at procurement@doha-metro.com.\n",
       "\n",
       "The following items are requested for quotation:\n",
       "* Structural Steel Beam: IPE 300, Hot Rolled, EN 10025 | Qty: 120 MTR | Delivery by: 2025-08-30 | Ref: DM-STRC-002\n",
       "\n",
       "Please submit your quotation within 1 week from the date of this request. We kindly request that you confirm receipt of this RFQ and reach out to us should you have any questions or require further clarification."
      ],
      "text/plain": [
       "<IPython.core.display.Markdown object>"
      ]
     },
     "metadata": {},
     "output_type": "display_data"
    },
    {
     "name": "stdout",
     "output_type": "stream",
     "text": [
      "\n",
      "--- RFQ for Steel Solutions 16 ---\n",
      "\n",
      "None\n"
     ]
    },
    {
     "data": {
      "text/markdown": [
       "### Request for Quotation for Doha Metro Phase 2 Project\n",
       "Dear Metro Industries 9,\n",
       "\n",
       "We are reaching out to request a quotation for the supply of materials for the Doha Metro Phase 2 project, located in Doha, Qatar. For any inquiries or clarification regarding this RFQ, please do not hesitate to contact Ahmed Al-Mansoori at procurement@doha-metro.com.\n",
       "\n",
       "The following items are requested:\n",
       "* Lighting Fixture - Tunnel Type: IP66, LED, 230V, 4000K | Qty: 220 EA | Delivery by: 2025-08-30 | Ref: DM-LGT-010\n",
       "\n",
       "Please submit your quotation within 1 week from the date of this letter. We kindly request that you confirm receipt of this RFQ and reach out to us should you have any questions or require further clarification."
      ],
      "text/plain": [
       "<IPython.core.display.Markdown object>"
      ]
     },
     "metadata": {},
     "output_type": "display_data"
    },
    {
     "name": "stdout",
     "output_type": "stream",
     "text": [
      "\n",
      "--- RFQ for Metro Industries 9 ---\n",
      "\n",
      "None\n"
     ]
    }
   ],
   "source": [
    "suggested_vendor_map = {\n",
    "    \"Alpha Solutions 2\": [\"Carbon Steel Flange\", \"Gate Valve\", \"Earthing Strip\", \"Fire Rated Door\"],\n",
    "    \"Trans Partners 13\": [\"HVAC Duct Connector\"],\n",
    "    \"Metro Industries 1\": [\"Cable Tray\", \"Signal Conduit\", \"Control Cable\"],\n",
    "    \"Steel Solutions 16\": [\"Structural Steel Beam\"],\n",
    "    \"Metro Industries 9\": [\"Lighting Fixture - Tunnel Type\"]\n",
    "}\n",
    "\n",
    "item_data_all = get_item_data_from_sheet(\"items\")\n",
    "\n",
    "# Generate RFQ per vendor\n",
    "for vendor, item_names in suggested_vendor_map.items():\n",
    "    item_subset = [item for item in item_data_all if item[\"Item Name\"] in item_names]\n",
    "\n",
    "    rfq_text = get_response(\n",
    "        input={\n",
    "            \"project_info\": project_info,\n",
    "            \"item_data\": item_subset,\n",
    "            \"vendor_name\": vendor\n",
    "        },\n",
    "        template=rfq_formatter_prompt,\n",
    "        role=\"You are a helpful assistant drafting procurement RFQs.\",\n",
    "        llm=\"llama\",\n",
    "        md=True\n",
    "    )\n",
    "\n",
    "    print(f\"\\n--- RFQ for {vendor} ---\\n\")\n",
    "    print(rfq_text)"
   ]
  },
  {
   "cell_type": "code",
   "execution_count": null,
   "metadata": {},
   "outputs": [],
   "source": []
  }
 ],
 "metadata": {
  "kernelspec": {
   "display_name": "Python 3",
   "language": "python",
   "name": "python3"
  },
  "language_info": {
   "codemirror_mode": {
    "name": "ipython",
    "version": 3
   },
   "file_extension": ".py",
   "mimetype": "text/x-python",
   "name": "python",
   "nbconvert_exporter": "python",
   "pygments_lexer": "ipython3",
   "version": "3.9.6"
  }
 },
 "nbformat": 4,
 "nbformat_minor": 4
}
