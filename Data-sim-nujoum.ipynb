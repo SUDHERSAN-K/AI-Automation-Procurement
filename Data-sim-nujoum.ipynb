{
 "cells": [
  {
   "cell_type": "code",
   "execution_count": 7,
   "id": "090f8f47",
   "metadata": {},
   "outputs": [],
   "source": [
    "import sys\n",
    "import numpy as np\n",
    "import pandas as pd\n",
    "import matplotlib.pyplot as plt\n",
    "import seaborn as sns\n",
    "import pyrsm as rsm\n",
    "\n",
    "sys.path.append(\"../code/\")\n",
    "#from llm_connect import get_response\n",
    "from dotenv import load_dotenv\n",
    "\n",
    "load_dotenv()\n",
    "\n",
    "np.random.seed(1234)"
   ]
  },
  {
   "cell_type": "code",
   "execution_count": 6,
   "id": "b1191bd5",
   "metadata": {},
   "outputs": [
    {
     "name": "stdout",
     "output_type": "stream",
     "text": [
      "Collecting llm_connect\n",
      "  Using cached llm_connect-2.0.0-py3-none-any.whl.metadata (4.2 kB)\n",
      "Requirement already satisfied: click==8.1.7 in /opt/conda/lib/python3.12/site-packages (from llm_connect) (8.1.7)\n",
      "Collecting setuptools~=68.2.0 (from llm_connect)\n",
      "  Using cached setuptools-68.2.2-py3-none-any.whl.metadata (6.3 kB)\n",
      "Requirement already satisfied: transformers in /opt/conda/lib/python3.12/site-packages (from llm_connect) (4.49.0)\n",
      "INFO: pip is looking at multiple versions of llm-connect to determine which version is compatible with other requirements. This could take a while.\n",
      "Collecting llm_connect\n",
      "  Using cached llm_connect-1.1.3-py3-none-any.whl.metadata (4.1 kB)\n",
      "  Using cached llm_connect-1.1.2-py3-none-any.whl.metadata (4.3 kB)\n",
      "  Using cached llm_connect-1.1.1-py3-none-any.whl.metadata (4.3 kB)\n",
      "  Using cached llm_connect-1.0.3-py3-none-any.whl.metadata (4.0 kB)\n",
      "Collecting transformers~=4.34.0 (from llm_connect)\n",
      "  Using cached transformers-4.34.1-py3-none-any.whl.metadata (121 kB)\n",
      "Collecting llm_connect\n",
      "  Using cached llm_connect-1.0.2-py3-none-any.whl.metadata (4.2 kB)\n",
      "  Using cached llm_connect-1.0.1-py3-none-any.whl.metadata (4.2 kB)\n",
      "\u001b[31mERROR: Cannot install llm-connect==1.0.1, llm-connect==1.0.2, llm-connect==1.0.3, llm-connect==1.1.1, llm-connect==1.1.2, llm-connect==1.1.3 and llm-connect==2.0.0 because these package versions have conflicting dependencies.\u001b[0m\u001b[31m\n",
      "\u001b[0m\n",
      "The conflict is caused by:\n",
      "    llm-connect 2.0.0 depends on torch~=2.1.0\n",
      "    llm-connect 1.1.3 depends on torch~=2.1.0\n",
      "    llm-connect 1.1.2 depends on torch~=2.1.0\n",
      "    llm-connect 1.1.1 depends on torch~=2.1.0\n",
      "    llm-connect 1.0.3 depends on torch~=2.1.0\n",
      "    llm-connect 1.0.2 depends on torch~=2.1.0\n",
      "    llm-connect 1.0.1 depends on torch~=2.1.0\n",
      "\n",
      "To fix this you could try to:\n",
      "1. loosen the range of package versions you've specified\n",
      "2. remove package versions to allow pip to attempt to solve the dependency conflict\n",
      "\n",
      "\u001b[31mERROR: ResolutionImpossible: for help visit https://pip.pypa.io/en/latest/topics/dependency-resolution/#dealing-with-dependency-conflicts\u001b[0m\u001b[31m\n",
      "\u001b[0mNote: you may need to restart the kernel to use updated packages.\n"
     ]
    }
   ],
   "source": [
    "pip install llm_connect"
   ]
  },
  {
   "cell_type": "code",
   "execution_count": 3,
   "id": "9b562415",
   "metadata": {},
   "outputs": [
    {
     "name": "stdout",
     "output_type": "stream",
     "text": [
      "Name: torch\n",
      "Version: 2.6.0+cu126\n",
      "Summary: Tensors and Dynamic neural networks in Python with strong GPU acceleration\n",
      "Home-page: https://pytorch.org/\n",
      "Author: PyTorch Team\n",
      "Author-email: packages@pytorch.org\n",
      "License: BSD-3-Clause\n",
      "Location: /opt/conda/lib/python3.12/site-packages\n",
      "Requires: filelock, fsspec, jinja2, networkx, setuptools, sympy, typing-extensions\n",
      "Required-by: torchaudio, torchvision\n",
      "Note: you may need to restart the kernel to use updated packages.\n"
     ]
    }
   ],
   "source": [
    "pip show torch\n"
   ]
  },
  {
   "cell_type": "code",
   "execution_count": 4,
   "id": "5607b949",
   "metadata": {},
   "outputs": [
    {
     "name": "stdout",
     "output_type": "stream",
     "text": [
      "Requirement already satisfied: torch in /opt/conda/lib/python3.12/site-packages (2.6.0+cu126)\n",
      "Requirement already satisfied: filelock in /opt/conda/lib/python3.12/site-packages (from torch) (3.17.0)\n",
      "Requirement already satisfied: typing-extensions>=4.10.0 in /opt/conda/lib/python3.12/site-packages (from torch) (4.12.2)\n",
      "Requirement already satisfied: setuptools in /opt/conda/lib/python3.12/site-packages (from torch) (75.1.0)\n",
      "Requirement already satisfied: sympy==1.13.1 in /opt/conda/lib/python3.12/site-packages (from torch) (1.13.1)\n",
      "Requirement already satisfied: networkx in /opt/conda/lib/python3.12/site-packages (from torch) (3.4.2)\n",
      "Requirement already satisfied: jinja2 in /opt/conda/lib/python3.12/site-packages (from torch) (3.1.4)\n",
      "Requirement already satisfied: fsspec in /opt/conda/lib/python3.12/site-packages (from torch) (2024.10.0)\n",
      "Requirement already satisfied: mpmath<1.4,>=1.1.0 in /opt/conda/lib/python3.12/site-packages (from sympy==1.13.1->torch) (1.3.0)\n",
      "Requirement already satisfied: MarkupSafe>=2.0 in /opt/conda/lib/python3.12/site-packages (from jinja2->torch) (2.1.5)\n",
      "Note: you may need to restart the kernel to use updated packages.\n"
     ]
    }
   ],
   "source": [
    "pip install torch"
   ]
  },
  {
   "cell_type": "code",
   "execution_count": 5,
   "id": "cfbafc38",
   "metadata": {},
   "outputs": [
    {
     "name": "stdout",
     "output_type": "stream",
     "text": [
      "\u001b[31mERROR: Could not find a version that satisfies the requirement torch==2.1.2 (from versions: 2.2.0, 2.2.1, 2.2.2, 2.3.0, 2.3.1, 2.4.0, 2.4.1, 2.5.0, 2.5.1, 2.6.0, 2.7.0)\u001b[0m\u001b[31m\n",
      "\u001b[0m\u001b[31mERROR: No matching distribution found for torch==2.1.2\u001b[0m\u001b[31m\n",
      "\u001b[0mNote: you may need to restart the kernel to use updated packages.\n"
     ]
    }
   ],
   "source": [
    "pip install torch==2.1.2"
   ]
  },
  {
   "cell_type": "code",
   "execution_count": 10,
   "id": "d726e070",
   "metadata": {},
   "outputs": [
    {
     "name": "stdout",
     "output_type": "stream",
     "text": [
      "Collecting faker\n",
      "  Downloading faker-37.1.0-py3-none-any.whl.metadata (15 kB)\n",
      "Requirement already satisfied: tzdata in /opt/conda/lib/python3.12/site-packages (from faker) (2024.2)\n",
      "Downloading faker-37.1.0-py3-none-any.whl (1.9 MB)\n",
      "\u001b[2K   \u001b[90m━━━━━━━━━━━━━━━━━━━━━━━━━━━━━━━━━━━━━━━━\u001b[0m \u001b[32m1.9/1.9 MB\u001b[0m \u001b[31m8.6 MB/s\u001b[0m eta \u001b[36m0:00:00\u001b[0mta \u001b[36m0:00:01\u001b[0m\n",
      "\u001b[?25hInstalling collected packages: faker\n",
      "Successfully installed faker-37.1.0\n",
      "Note: you may need to restart the kernel to use updated packages.\n"
     ]
    }
   ],
   "source": [
    "pip install faker"
   ]
  },
  {
   "cell_type": "code",
   "execution_count": 12,
   "id": "c42e96e8",
   "metadata": {},
   "outputs": [
    {
     "name": "stdout",
     "output_type": "stream",
     "text": [
      "Collecting fpdf\n",
      "  Downloading fpdf-1.7.2.tar.gz (39 kB)\n",
      "  Preparing metadata (setup.py) ... \u001b[?25ldone\n",
      "\u001b[?25hBuilding wheels for collected packages: fpdf\n",
      "  Building wheel for fpdf (setup.py) ... \u001b[?25ldone\n",
      "\u001b[?25h  Created wheel for fpdf: filename=fpdf-1.7.2-py2.py3-none-any.whl size=40704 sha256=9638006b35bb50672b83b562e0c927926efa5b029aba754b19f9a85ee66bbc70\n",
      "  Stored in directory: /home/jovyan/.cache/pip/wheels/6e/62/11/dc73d78e40a218ad52e7451f30166e94491be013a7850b5d75\n",
      "Successfully built fpdf\n",
      "Installing collected packages: fpdf\n",
      "Successfully installed fpdf-1.7.2\n",
      "Note: you may need to restart the kernel to use updated packages.\n"
     ]
    }
   ],
   "source": [
    "pip install fpdf"
   ]
  },
  {
   "cell_type": "code",
   "execution_count": 16,
   "id": "bcd06c7b",
   "metadata": {},
   "outputs": [
    {
     "name": "stdout",
     "output_type": "stream",
     "text": [
      "Excel file saved: generated_files/BOM_1.xlsx\n",
      "PDF file saved: generated_files/BOM_1.pdf\n",
      "Excel file saved: generated_files/BOM_2.xlsx\n",
      "PDF file saved: generated_files/BOM_2.pdf\n",
      "Excel file saved: generated_files/BOM_3.xlsx\n",
      "PDF file saved: generated_files/BOM_3.pdf\n",
      "Excel file saved: generated_files/BOM_4.xlsx\n",
      "PDF file saved: generated_files/BOM_4.pdf\n",
      "Excel file saved: generated_files/BOM_5.xlsx\n",
      "PDF file saved: generated_files/BOM_5.pdf\n",
      "Generated Excel and PDF BOMs saved in generated_files/\n"
     ]
    }
   ],
   "source": [
    "import random\n",
    "from faker import Faker\n",
    "from fpdf import FPDF\n",
    "import pandas as pd\n",
    "import os\n",
    "\n",
    "# Initialize Faker\n",
    "tool = Faker()\n",
    "\n",
    "# Sample company names and project names\n",
    "supplier_names = [\"Zenith Engineering\", \"Pinnacle Systems\", \"Vertex Constructors\", \"Nexus EPC\"]\n",
    "project_names = [\"Project Apollo\", \"Sunrise Refinery\", \"Delta Wind Farm\", \"Oceanic Bridge\", \"Metro Line 9\"]\n",
    "\n",
    "# Sample units of measure and material categories\n",
    "units_of_measure = [\"Each\", \"Meter\", \"Kg\", \"Feet\", \"Litre\"]\n",
    "material_categories = [\"Piping\", \"Electrical\", \"Civil\", \"Mechanical\", \"Structural\"]\n",
    "\n",
    "# Directory to save files\n",
    "output_dir = \"generated_files\"\n",
    "os.makedirs(output_dir, exist_ok=True)\n",
    "\n",
    "# Generate a single fake Engineering BOM and save as Excel\n",
    "def generate_fake_bom_excel(company, project, filename, is_bechtel=True, num_items=10):\n",
    "    # Generate fake BOM data\n",
    "    data = []\n",
    "    for _ in range(num_items):\n",
    "        item_id = f\"ITM-{random.randint(1000,9999)}\"\n",
    "        desc = random.choice([\"Steel Beam\", \"Electric Motor\", \"PVC Pipe\", \"Hydraulic Pump\", \"Control Valve\", \"Sensor\", \"Cable Reel\", \"Safety Helmet\", \"Heat Exchanger\", \"Solar Panel\"])\n",
    "        qty = random.randint(1, 500)\n",
    "        uom = random.choice(units_of_measure)\n",
    "        spec = random.choice([\"A36 Steel\", \"IP65 Rated\", \"Schedule 40\", \"316 Stainless Steel\", \"VFD Compatible\", \"High Voltage 480V\"])\n",
    "        material_cat = random.choice(material_categories)\n",
    "        drawing_ref = f\"DRW-{random.randint(100,999)}-{random.choice(['PIP','ELC','CIV','MEC','STR'])}-{random.randint(1000,9999)}\"\n",
    "        delivery = tool.date_between(start_date='+10d', end_date='+60d').strftime('%Y-%m-%d')\n",
    "        data.append([item_id, desc, qty, uom, spec, material_cat, drawing_ref, delivery])\n",
    "\n",
    "    # Create DataFrame\n",
    "    columns = [\"Item ID\", \"Description\", \"Quantity\", \"Unit of Measure\", \"Specification\", \"Material Category\", \"Drawing Reference\", \"Required Delivery Date\"]\n",
    "    df = pd.DataFrame(data, columns=columns)\n",
    "\n",
    "    # Save as Excel\n",
    "    excel_path = os.path.join(output_dir, filename + \".xlsx\")\n",
    "    df.to_excel(excel_path, index=False)\n",
    "    print(f\"Excel file saved: {excel_path}\")\n",
    "\n",
    "    # Also save as PDF\n",
    "    pdf = FPDF()\n",
    "    pdf.add_page()\n",
    "    pdf.set_font(\"Arial\", size=12)\n",
    "\n",
    "    # Header\n",
    "    pdf.cell(0, 10, f\"{company} - {project}\", ln=True, align='C')\n",
    "    pdf.cell(0, 10, \"Engineering Bill of Materials (EBOM)\", ln=True, align='C')\n",
    "    pdf.ln(10)\n",
    "\n",
    "    # Table headers\n",
    "    pdf.set_font(\"Arial\", 'B', 9)\n",
    "    col_widths = [20, 40, 15, 20, 40, 30, 40, 30]\n",
    "    headers = columns\n",
    "    for i, header in enumerate(headers):\n",
    "        pdf.cell(col_widths[i], 10, header, border=1)\n",
    "    pdf.ln()\n",
    "\n",
    "    # Table rows with slight random font variation\n",
    "    for _, row in df.iterrows():\n",
    "        pdf.set_font(\"Arial\", '', random.choice([8,9,10]))\n",
    "        for i, item in enumerate(row):\n",
    "            pdf.cell(col_widths[i], 8, str(item), border=1)\n",
    "        pdf.ln()\n",
    "\n",
    "    pdf_path = os.path.join(output_dir, filename + \".pdf\")\n",
    "    pdf.output(pdf_path)\n",
    "    print(f\"PDF file saved: {pdf_path}\")\n",
    "\n",
    "# Generate multiple Excel and PDF BOMs\n",
    "def generate_multiple_boms(num_boms=5):\n",
    "    for i in range(num_boms):\n",
    "        if random.random() < 0.7:\n",
    "            company = \"Bechtel Solutions\"\n",
    "            is_bechtel = True\n",
    "        else:\n",
    "            company = random.choice(supplier_names)\n",
    "            is_bechtel = False\n",
    "\n",
    "        project = random.choice(project_names)\n",
    "        filename = f\"BOM_{i+1}\"\n",
    "        generate_fake_bom_excel(company, project, filename, is_bechtel=is_bechtel)\n",
    "\n",
    "if __name__ == \"__main__\":\n",
    "    generate_multiple_boms(num_boms=5)\n",
    "    print(f\"Generated Excel and PDF BOMs saved in {output_dir}/\")\n"
   ]
  },
  {
   "cell_type": "code",
   "execution_count": null,
   "id": "7d57a2d8",
   "metadata": {},
   "outputs": [],
   "source": []
  }
 ],
 "metadata": {
  "kernelspec": {
   "display_name": "Python 3",
   "language": "python",
   "name": "python3"
  },
  "language_info": {
   "codemirror_mode": {
    "name": "ipython",
    "version": 3
   },
   "file_extension": ".py",
   "mimetype": "text/x-python",
   "name": "python",
   "nbconvert_exporter": "python",
   "pygments_lexer": "ipython3",
   "version": "3.9.6"
  }
 },
 "nbformat": 4,
 "nbformat_minor": 5
}
